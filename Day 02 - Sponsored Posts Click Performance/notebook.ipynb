{
 "cells": [
  {
   "cell_type": "code",
   "execution_count": 6,
   "id": "d167bd5c",
   "metadata": {},
   "outputs": [],
   "source": [
    "import pandas as pd\n",
    "\n",
    "# Getting rid of the annoying SettingWithCopyWarning.\n",
    "# This sets the pandas option for copy-on-write behavior.\n",
    "pd.options.mode.copy_on_write = True\n"
   ]
  },
  {
   "cell_type": "markdown",
   "id": "f19e3453",
   "metadata": {},
   "source": [
    "You are a Product Analyst on the **Amazon** Sponsored Advertising team investigating sponsored product ad engagement across electronics categories. Your team wants to understand CTR variations to optimize targeted advertising strategies.\n",
    "\n"
   ]
  },
  {
   "cell_type": "code",
   "execution_count": 7,
   "id": "d1a9ee50",
   "metadata": {},
   "outputs": [
    {
     "name": "stdout",
     "output_type": "stream",
     "text": [
      "Dimension Product DataFrame:\n",
      "   product_id       product_name        product_category\n",
      "0           1           Smart TV        Home Electronics\n",
      "1           2   Wireless Earbuds   Electronics & Gadgets\n",
      "2           3       Refrigerator  Electronics Appliances\n",
      "3           4  Bestselling Novel                   Books\n",
      "4           5     Designer Jeans                 Fashion\n",
      "\n",
      "Fact Ad Performance DataFrame:\n",
      "   ad_id  clicks  product_id  impressions recorded_date\n",
      "0    101      10           1          200    2024-10-02\n",
      "1    102      15           1          300    2024-10-12\n",
      "2    103      20           2          250    2024-10-05\n",
      "3    104      18           2          230    2024-10-20\n",
      "4    105       5           3          150    2024-10-15\n"
     ]
    }
   ],
   "source": [
    "# Load the CSV files into DataFrames\n",
    "dim_product = pd.read_csv('dim_product.csv')\n",
    "fct_ad_performance = pd.read_csv('fct_ad_performance.csv')\n",
    "\n",
    "# Display the DataFrames\n",
    "print(\"Dimension Product DataFrame:\")\n",
    "print(dim_product.head())\n",
    "\n",
    "print(\"\\nFact Ad Performance DataFrame:\")\n",
    "print(fct_ad_performance.head())\n"
   ]
  },
  {
   "cell_type": "markdown",
   "id": "6c59fbb5",
   "metadata": {},
   "source": [
    "### Question 1 of 3\n",
    "\n",
    "What is the average click-through rate (CTR) for sponsored product ads for each product category that contains the substring 'Electronics' in its name during October 2024? This analysis will help determine which electronics-related categories are performing optimally."
   ]
  },
  {
   "cell_type": "code",
   "execution_count": 8,
   "id": "0cfcdb8a",
   "metadata": {},
   "outputs": [
    {
     "name": "stdout",
     "output_type": "stream",
     "text": [
      "Average CTR for Electronics Categories in October 2024:\n",
      "          product_category       ctr\n",
      "0    Electronics & Gadgets  0.079130\n",
      "1  Electronics Accessories  0.100000\n",
      "2   Electronics Appliances  0.050000\n",
      "3      Electronics Gadgets  0.072500\n",
      "4         Home Electronics  0.066667\n"
     ]
    }
   ],
   "source": [
    "# Filter categories containing 'Electronics'\n",
    "electronics_products = dim_product[dim_product['product_category'].str.contains('Electronics', case=False)]\n",
    "\n",
    "# Merge with ad performance\n",
    "merged = pd.merge(\n",
    "    fct_ad_performance,\n",
    "    electronics_products[['product_id', 'product_category']],\n",
    "    on='product_id',\n",
    "    how='inner'\n",
    ")\n",
    "\n",
    "# Filter for October 2024\n",
    "october_ads = merged[\n",
    "    (merged['recorded_date'] >= '2024-10-01') &\n",
    "    (merged['recorded_date'] <= '2024-10-31')\n",
    "]\n",
    "\n",
    "# Calculate CTR for each row\n",
    "october_ads['ctr'] = october_ads['clicks'] / october_ads['impressions']\n",
    "\n",
    "# Group by category and calculate average CTR\n",
    "result = october_ads.groupby('product_category')['ctr'].mean().reset_index()\n",
    "\n",
    "print(\"Average CTR for Electronics Categories in October 2024:\")\n",
    "print(result)\n"
   ]
  },
  {
   "cell_type": "markdown",
   "id": "fe2861f9",
   "metadata": {},
   "source": [
    "### Question 2 of 3\n",
    "\n",
    "Which product categories have a CTR greater than the aggregated overall average CTR for sponsored product ads during October 2024? This analysis will identify high-performing categories for further optimization."
   ]
  },
  {
   "cell_type": "code",
   "execution_count": 9,
   "id": "06393c5b",
   "metadata": {},
   "outputs": [
    {
     "name": "stdout",
     "output_type": "stream",
     "text": [
      "Overall Average CTR for October 2024: 0.0680\n",
      "\n",
      "High Performing Categories with CTR greater than Overall Average:\n",
      "          product_category      ctr\n",
      "1                    Books  0.10000\n",
      "2    Electronics & Gadgets  0.07913\n",
      "3  Electronics Accessories  0.10000\n",
      "5      Electronics Gadgets  0.07250\n",
      "8                  Kitchen  0.07000\n"
     ]
    }
   ],
   "source": [
    "# Filter for October 2024\n",
    "october_ads = fct_ad_performance[\n",
    "    (fct_ad_performance['recorded_date'] >= '2024-10-01') &\n",
    "    (fct_ad_performance['recorded_date'] <= '2024-10-31')\n",
    "]\n",
    "\n",
    "# Merge with product categories\n",
    "merged = pd.merge(\n",
    "    october_ads,\n",
    "    dim_product[['product_id', 'product_category']],\n",
    "    on='product_id',\n",
    "    how='inner'\n",
    ")\n",
    "\n",
    "# Calculate CTR for each row\n",
    "merged['ctr'] = merged['clicks'] / merged['impressions']\n",
    "\n",
    "# Overall average CTR\n",
    "overall_avg_ctr = merged['ctr'].mean()\n",
    "\n",
    "print(f\"Overall Average CTR for October 2024: {overall_avg_ctr:.4f}\")\n",
    "\n",
    "# Average CTR per category\n",
    "category_avg_ctr = merged.groupby('product_category')['ctr'].mean().reset_index()\n",
    "\n",
    "# Filter categories with CTR greater than overall average\n",
    "high_performing = category_avg_ctr[category_avg_ctr['ctr'] > overall_avg_ctr]\n",
    "\n",
    "print(\"\\nHigh Performing Categories with CTR greater than Overall Average:\")\n",
    "print(high_performing)\n"
   ]
  },
  {
   "cell_type": "markdown",
   "id": "3b536868",
   "metadata": {},
   "source": [
    "### Question 3 of 3\n",
    "\n",
    "For the product categories identified in the previous question, what is the percentage difference between their CTR and the overall average CTR for October 2024? This analysis will quantify the performance gap to recommend specific categories for targeted advertising optimization."
   ]
  },
  {
   "cell_type": "code",
   "execution_count": 10,
   "id": "f726f4a5",
   "metadata": {},
   "outputs": [
    {
     "name": "stdout",
     "output_type": "stream",
     "text": [
      "High Performing Categories with CTR greater than Overall Average:\n",
      "          product_category      ctr  pct_diff_vs_overall\n",
      "1                    Books  0.10000            46.961679\n",
      "2    Electronics & Gadgets  0.07913            16.291416\n",
      "3  Electronics Accessories  0.10000            46.961679\n",
      "5      Electronics Gadgets  0.07250             6.547217\n",
      "8                  Kitchen  0.07000             2.873175\n"
     ]
    }
   ],
   "source": [
    "# Filter for October 2024\n",
    "october_ads = fct_ad_performance[\n",
    "    (fct_ad_performance['recorded_date'] >= '2024-10-01') &\n",
    "    (fct_ad_performance['recorded_date'] <= '2024-10-31')\n",
    "]\n",
    "\n",
    "# Merge with product categories\n",
    "merged = pd.merge(\n",
    "    october_ads,\n",
    "    dim_product[['product_id', 'product_category']],\n",
    "    on='product_id',\n",
    "    how='inner'\n",
    ")\n",
    "\n",
    "# Calculate CTR for each row\n",
    "merged['ctr'] = merged['clicks'] / merged['impressions']\n",
    "\n",
    "# Overall average CTR\n",
    "overall_avg_ctr = merged['ctr'].mean()\n",
    "\n",
    "# Average CTR per category\n",
    "category_avg_ctr = merged.groupby('product_category')['ctr'].mean().reset_index()\n",
    "\n",
    "# Filter categories with CTR greater than overall average\n",
    "high_performing = category_avg_ctr[category_avg_ctr['ctr'] > overall_avg_ctr]\n",
    "# Calculate percentage difference\n",
    "high_performing['pct_diff_vs_overall'] = (\n",
    "    (high_performing['ctr'] - overall_avg_ctr) / overall_avg_ctr * 100\n",
    ")\n",
    "\n",
    "print(\"High Performing Categories with CTR greater than Overall Average:\")\n",
    "print(high_performing[['product_category', 'ctr', 'pct_diff_vs_overall']])\n"
   ]
  }
 ],
 "metadata": {
  "kernelspec": {
   "display_name": "py-party",
   "language": "python",
   "name": "python3"
  },
  "language_info": {
   "codemirror_mode": {
    "name": "ipython",
    "version": 3
   },
   "file_extension": ".py",
   "mimetype": "text/x-python",
   "name": "python",
   "nbconvert_exporter": "python",
   "pygments_lexer": "ipython3",
   "version": "3.13.5"
  }
 },
 "nbformat": 4,
 "nbformat_minor": 5
}
