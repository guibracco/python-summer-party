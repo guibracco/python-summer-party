{
 "cells": [
  {
   "cell_type": "code",
   "execution_count": 1,
   "id": "e7697f0d",
   "metadata": {},
   "outputs": [],
   "source": [
    "import pandas as pd\n"
   ]
  },
  {
   "cell_type": "markdown",
   "id": "71b1ad78",
   "metadata": {},
   "source": [
    "You are a Product Analyst on the **Instagram** Stories team investigating story creation patterns. The team wants to understand the distribution of stories created by users daily. You will analyze user storytelling behavior to optimize engagement strategies."
   ]
  },
  {
   "cell_type": "code",
   "execution_count": 2,
   "id": "31c48889",
   "metadata": {},
   "outputs": [
    {
     "name": "stdout",
     "output_type": "stream",
     "text": [
      "      user_id    story_date  story_count\n",
      "0    user_001    2024-07-03          3.0\n",
      "1    user_001    2024-07-03          3.0\n",
      "2    user_001    2024-08-15          5.0\n",
      "3    user_001    2024-09-10          0.0\n",
      "4    user_001    2024-10-05         20.0\n",
      "5    user_001    07/15/2024          2.0\n",
      "6    user_002    2024-07-03          4.0\n",
      "7    user_002    2024-07-04          3.0\n",
      "8    user_002           NaN          6.0\n",
      "9    user_002    2024-12-25          1.0\n",
      "10   user_002    2025-01-15          7.0\n",
      "11   user_002    2025-06-29         10.0\n",
      "12   user_003    2024-07-10          2.0\n",
      "13   user_003    2024-08-20          8.0\n",
      "14   user_003    2024-08-20          8.0\n",
      "15   user_003    2025-03-11          5.0\n",
      "16        NaN    2025-03-12          3.0\n",
      "17   USER_003    2025-04-01          4.0\n",
      "18   user_004    2024-07-15          6.0\n",
      "19   user_004    2024-09-30          7.0\n",
      "20   user_004    2024/10/10          4.0\n",
      "21   user_004    2024-11-11          3.0\n",
      "22   user_004    2025-02-28         12.0\n",
      "23   user_004    2025-03-01          0.0\n",
      "24   user_005    2024-08-01          1.0\n",
      "25   user_005    2024-08-02          2.0\n",
      "26   user_005    2024-08-03          3.0\n",
      "27   user_005    2024-08-04          4.0\n",
      "28   user_005    2024-08-05          NaN\n",
      "29   user_005    2024-08-06          5.0\n",
      "30   user_006    2024-09-01          9.0\n",
      "31   user_006    2024-09-02         10.0\n",
      "32   user_006    2024-09-03          9.0\n",
      "33   user_006    2024-09-04         50.0\n",
      "34   user_006    2024-09-05          8.0\n",
      "35   user_006           NaN          7.0\n",
      "36   user_007    2024-10-10          4.0\n",
      "37   user_007    2024-10-11          4.0\n",
      "38   user_007    2024-10-12          4.0\n",
      "39   user_007    2024-10-13          3.0\n",
      "40   user_007    2024-10-14          2.0\n",
      "41   user_007    2024-10-15          1.0\n",
      "42   user_008    2025-01-01         11.0\n",
      "43   user_008    2025-01-02         12.0\n",
      "44   user_008    2025-01-03         13.0\n",
      "45   user_008    2025-01-04         14.0\n",
      "46   user_008    2025-01-05         15.0\n",
      "47   user_008    2025-01-06          0.0\n",
      "48   user_009    2024-12-01          1.0\n",
      "49   user_009    2024-12-02          2.0\n",
      "50   user_009    2024-12-03          3.0\n",
      "51   user_009    2024-12-04          4.0\n",
      "52   user_009    2024-12-05          5.0\n",
      "53   user_009  invalid_date          6.0\n",
      "54   user_010    2025-03-15          7.0\n",
      "55   user_010    2025-03-16          8.0\n",
      "56   user_010    2025-03-17          9.0\n",
      "57   user_010    2025-03-18         10.0\n",
      "58   user_010    2025-03-19         11.0\n",
      "59   user_010    2025-03-20         12.0\n"
     ]
    }
   ],
   "source": [
    "# Load the transaction data\n",
    "stories_data = pd.read_csv('stories_data.csv')\n",
    "\n",
    "# Display the DataFrame\n",
    "print(stories_data)\n"
   ]
  },
  {
   "cell_type": "markdown",
   "id": "dd8e5944",
   "metadata": {},
   "source": [
    "### Question 1 of 3\n",
    "\n",
    "Take a look at the data in the `story_date` column. Correct any data type inconsistencies in that column."
   ]
  },
  {
   "cell_type": "code",
   "execution_count": 3,
   "id": "262f16d1",
   "metadata": {},
   "outputs": [
    {
     "name": "stdout",
     "output_type": "stream",
     "text": [
      "      user_id story_date  story_count\n",
      "0    user_001 2024-07-03          3.0\n",
      "1    user_001 2024-07-03          3.0\n",
      "2    user_001 2024-08-15          5.0\n",
      "3    user_001 2024-09-10          0.0\n",
      "4    user_001 2024-10-05         20.0\n",
      "5    user_001        NaT          2.0\n",
      "6    user_002 2024-07-03          4.0\n",
      "7    user_002 2024-07-04          3.0\n",
      "8    user_002        NaT          6.0\n",
      "9    user_002 2024-12-25          1.0\n",
      "10   user_002 2025-01-15          7.0\n",
      "11   user_002 2025-06-29         10.0\n",
      "12   user_003 2024-07-10          2.0\n",
      "13   user_003 2024-08-20          8.0\n",
      "14   user_003 2024-08-20          8.0\n",
      "15   user_003 2025-03-11          5.0\n",
      "16        NaN 2025-03-12          3.0\n",
      "17   USER_003 2025-04-01          4.0\n",
      "18   user_004 2024-07-15          6.0\n",
      "19   user_004 2024-09-30          7.0\n",
      "20   user_004        NaT          4.0\n",
      "21   user_004 2024-11-11          3.0\n",
      "22   user_004 2025-02-28         12.0\n",
      "23   user_004 2025-03-01          0.0\n",
      "24   user_005 2024-08-01          1.0\n",
      "25   user_005 2024-08-02          2.0\n",
      "26   user_005 2024-08-03          3.0\n",
      "27   user_005 2024-08-04          4.0\n",
      "28   user_005 2024-08-05          NaN\n",
      "29   user_005 2024-08-06          5.0\n",
      "30   user_006 2024-09-01          9.0\n",
      "31   user_006 2024-09-02         10.0\n",
      "32   user_006 2024-09-03          9.0\n",
      "33   user_006 2024-09-04         50.0\n",
      "34   user_006 2024-09-05          8.0\n",
      "35   user_006        NaT          7.0\n",
      "36   user_007 2024-10-10          4.0\n",
      "37   user_007 2024-10-11          4.0\n",
      "38   user_007 2024-10-12          4.0\n",
      "39   user_007 2024-10-13          3.0\n",
      "40   user_007 2024-10-14          2.0\n",
      "41   user_007 2024-10-15          1.0\n",
      "42   user_008 2025-01-01         11.0\n",
      "43   user_008 2025-01-02         12.0\n",
      "44   user_008 2025-01-03         13.0\n",
      "45   user_008 2025-01-04         14.0\n",
      "46   user_008 2025-01-05         15.0\n",
      "47   user_008 2025-01-06          0.0\n",
      "48   user_009 2024-12-01          1.0\n",
      "49   user_009 2024-12-02          2.0\n",
      "50   user_009 2024-12-03          3.0\n",
      "51   user_009 2024-12-04          4.0\n",
      "52   user_009 2024-12-05          5.0\n",
      "53   user_009        NaT          6.0\n",
      "54   user_010 2025-03-15          7.0\n",
      "55   user_010 2025-03-16          8.0\n",
      "56   user_010 2025-03-17          9.0\n",
      "57   user_010 2025-03-18         10.0\n",
      "58   user_010 2025-03-19         11.0\n",
      "59   user_010 2025-03-20         12.0\n"
     ]
    }
   ],
   "source": [
    "# Clean and standardize the `story_date` column in-place (leave other columns unchanged)\n",
    "\n",
    "dates = stories_data['story_date']\n",
    "\n",
    "# Parse mixed date formats; coerce invalid strings to NaT\n",
    "cleaned = pd.to_datetime(dates, errors='coerce')\n",
    "\n",
    "stories_data['story_date'] = cleaned\n",
    "\n",
    "# Display the cleaned DataFrame\n",
    "print(stories_data)\n"
   ]
  },
  {
   "cell_type": "markdown",
   "id": "cc5fab1d",
   "metadata": {},
   "source": [
    "### Question 2 of 3\n",
    "\n",
    "Calculate the 25th, 50th, and 75th percentiles of the number of stories created per user per day."
   ]
  },
  {
   "cell_type": "code",
   "execution_count": 4,
   "id": "39fd2b1f",
   "metadata": {},
   "outputs": [
    {
     "name": "stdout",
     "output_type": "stream",
     "text": [
      "{'p25': 3.0, 'p50': 5.0, 'p75': 9.25}\n"
     ]
    }
   ],
   "source": [
    "# Lowercase user_id and drop duplicates, then compute per-user-per-day percentiles\n",
    "tmp = stories_data[['user_id', 'story_date', 'story_count']].copy()\n",
    "tmp['user_id'] = tmp['user_id'].astype('string').str.strip().str.lower()\n",
    "\n",
    "# Remove exact duplicate rows\n",
    "tmp = tmp.drop_duplicates(subset=['user_id', 'story_date', 'story_count'])\n",
    "\n",
    "# Aggregate to user-day counts\n",
    "daily = tmp.groupby(['user_id', 'story_date'], as_index=False)['story_count'].sum()\n",
    "\n",
    "# Percentiles\n",
    "percentiles = daily['story_count'].quantile([0.25, 0.50, 0.75])\n",
    "percentiles.index = ['p25', 'p50', 'p75']\n",
    "percentiles = percentiles.to_dict()\n",
    "\n",
    "# Display the percentiles\n",
    "print(percentiles)\n"
   ]
  },
  {
   "cell_type": "markdown",
   "id": "3dbabf03",
   "metadata": {},
   "source": [
    "### Question 3 of 3\n",
    "\n",
    "What percentage of users have had at least one day where they posted more than 10 stories on that day?\n",
    "\n",
    "Think about how you might identify those users and calculate the percentage relative to the total user base."
   ]
  },
  {
   "cell_type": "code",
   "execution_count": 5,
   "id": "54d1b5cc",
   "metadata": {},
   "outputs": [
    {
     "name": "stdout",
     "output_type": "stream",
     "text": [
      "{'users_with_gt10': 5, 'all_users': 10, 'percentage': 50.0}\n",
      "Percentage of users with at least one day > 10 stories: 50.0%\n"
     ]
    }
   ],
   "source": [
    "# Percentage of users with at least one day > 10 stories\n",
    "tmp = stories_data[['user_id', 'story_date', 'story_count']].copy()\n",
    "\n",
    "# Normalize user_id casing and whitespace\n",
    "tmp['user_id'] = tmp['user_id'].astype('string').str.strip().str.lower()\n",
    "\n",
    "# Coerce counts to numeric and drop invalids\n",
    "tmp['story_count'] = pd.to_numeric(tmp['story_count'], errors='coerce')\n",
    "tmp = tmp.dropna(subset=['user_id', 'story_date', 'story_count'])\n",
    "\n",
    "# Remove exact duplicate rows\n",
    "tmp = tmp.drop_duplicates(subset=['user_id', 'story_date', 'story_count'])\n",
    "\n",
    "# Aggregate per user-day (calendar day)\n",
    "tmp['day'] = tmp['story_date'].dt.normalize()\n",
    "daily = tmp.groupby(['user_id', 'day'], as_index=False)['story_count'].sum()\n",
    "\n",
    "# Users with any day > 10 stories\n",
    "users_with_gt10 = set(daily.loc[daily['story_count'] > 10, 'user_id'])\n",
    "\n",
    "# Denominator: all unique users in the dataset (normalized)\n",
    "all_users = set(tmp['user_id'])\n",
    "\n",
    "pct_users = (len(users_with_gt10) / len(all_users) * 100) if all_users else 0.0\n",
    "\n",
    "print({\n",
    "    'users_with_gt10': len(users_with_gt10),\n",
    "    'all_users': len(all_users),\n",
    "    'percentage': round(pct_users, 2)\n",
    "})\n",
    "\n",
    "# Display the percentage of users with at least one day > 10 stories\n",
    "print(f\"Percentage of users with at least one day > 10 stories: {round(pct_users, 2)}%\")\n"
   ]
  }
 ],
 "metadata": {
  "kernelspec": {
   "display_name": "py-party",
   "language": "python",
   "name": "python3"
  },
  "language_info": {
   "codemirror_mode": {
    "name": "ipython",
    "version": 3
   },
   "file_extension": ".py",
   "mimetype": "text/x-python",
   "name": "python",
   "nbconvert_exporter": "python",
   "pygments_lexer": "ipython3",
   "version": "3.13.6"
  }
 },
 "nbformat": 4,
 "nbformat_minor": 5
}
