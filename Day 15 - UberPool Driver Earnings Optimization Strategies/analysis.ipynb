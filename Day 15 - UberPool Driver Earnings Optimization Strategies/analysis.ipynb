{
 "cells": [
  {
   "cell_type": "code",
   "execution_count": 29,
   "id": "c391a2f0",
   "metadata": {},
   "outputs": [],
   "source": [
    "import pandas as pd\n"
   ]
  },
  {
   "cell_type": "markdown",
   "id": "68ab8612",
   "metadata": {},
   "source": [
    "You are a Business Analyst on the **Uber** Pool Product Team working to optimize driver compensation. The team aims to understand how trip characteristics impact driver earnings. Your goal is to develop data-driven recommendations that maximize driver earnings potential."
   ]
  },
  {
   "cell_type": "code",
   "execution_count": 30,
   "id": "3f15c066",
   "metadata": {},
   "outputs": [
    {
     "name": "stdout",
     "output_type": "stream",
     "text": [
      "    trip_id  driver_id ride_type  trip_date  rider_count  total_distance  \\\n",
      "0       101          1  UberPool 2024-07-05            3            10.5   \n",
      "1       102          1  UberPool 2024-07-15            2             8.0   \n",
      "2       103          2  UberPool 2024-08-10            4            15.0   \n",
      "3       104          3     UberX 2024-07-20            1             5.0   \n",
      "4       105          2  UberPool 2024-09-01            3            12.0   \n",
      "5       106          4  UberPool 2024-09-15            5            20.0   \n",
      "6       107          4  UberPool 2024-10-01            3             9.0   \n",
      "7       108          5  UberPool 2024-08-25            4            11.0   \n",
      "8       109          1  UberPool 2024-09-30            3             6.0   \n",
      "9       110          2  UberPool 2024-07-07            2             7.0   \n",
      "10      111          3  UberPool 2024-08-05            4            13.0   \n",
      "11      112          5     UberX 2024-09-10            1             4.0   \n",
      "12      113          6  UberPool 2024-07-30            3            22.0   \n",
      "13      114          6  UberPool 2024-08-22            4            18.0   \n",
      "14      115          7  UberPool 2024-09-21            5            25.0   \n",
      "\n",
      "    total_earnings  \n",
      "0             22.5  \n",
      "1             18.0  \n",
      "2             35.0  \n",
      "3             12.0  \n",
      "4             30.0  \n",
      "5             50.0  \n",
      "6             25.0  \n",
      "7             28.0  \n",
      "8             16.0  \n",
      "9             15.0  \n",
      "10            32.0  \n",
      "11            10.0  \n",
      "12            45.0  \n",
      "13            42.0  \n",
      "14            60.0  \n"
     ]
    }
   ],
   "source": [
    "# Load data\n",
    "fct_trips = pd.read_csv('fct_trips.csv')\n",
    "\n",
    "# Convert `trip_date` to datetime\n",
    "fct_trips['trip_date'] = pd.to_datetime(fct_trips['trip_date'])\n",
    "\n",
    "# Display the dataset\n",
    "print(fct_trips)"
   ]
  },
  {
   "cell_type": "markdown",
   "id": "94bcd983",
   "metadata": {},
   "source": [
    "### Question 1 of 3\n",
    "\n",
    "What is the average driver earnings per completed UberPool ride with more than two riders between July 1st and September 30th, 2024? This analysis will help isolate trips that meet specific rider thresholds to understand their impact on driver earnings."
   ]
  },
  {
   "cell_type": "code",
   "execution_count": 31,
   "id": "53190ad7",
   "metadata": {},
   "outputs": [
    {
     "name": "stdout",
     "output_type": "stream",
     "text": [
      "Average driver earnings per UberPool ride (>2 riders) from 2024-07-01 to 2024-09-30: $36.05 (n=10 trips)\n"
     ]
    }
   ],
   "source": [
    "# Average earnings per UberPool ride (>2 riders) between 2024-07-01 and 2024-09-30\n",
    "mask = (\n",
    "    fct_trips['ride_type'].str.strip().str.lower().eq('uberpool') &\n",
    "    (fct_trips['rider_count'] > 2) &\n",
    "    fct_trips['trip_date'].between('2024-07-01', '2024-09-30') &\n",
    "    fct_trips['total_earnings'].notna()\n",
    ")\n",
    "\n",
    "subset = fct_trips.loc[mask, ['trip_id', 'total_earnings']]\n",
    "\n",
    "if subset.empty:\n",
    "    print(\"No matching trips found for the specified criteria.\")\n",
    "else:\n",
    "    avg_earnings = subset['total_earnings'].mean()\n",
    "    trip_count = len(subset)\n",
    "    print(f\"Average driver earnings per UberPool ride (>2 riders) from 2024-07-01 to 2024-09-30: ${avg_earnings:.2f} (n={trip_count} trips)\")\n"
   ]
  },
  {
   "cell_type": "markdown",
   "id": "c95e2e38",
   "metadata": {},
   "source": [
    "### Question 2 of 3\n",
    "\n",
    "For completed UberPool rides between July 1st and September 30th, 2024, derive a new column calculating earnings per mile (`total_earnings` divided by `total_distance`) and then compute the average earnings per mile for rides with more than two riders. This calculation will reveal efficiency metrics for driver compensation."
   ]
  },
  {
   "cell_type": "code",
   "execution_count": 32,
   "id": "00ef93eb",
   "metadata": {},
   "outputs": [
    {
     "name": "stdout",
     "output_type": "stream",
     "text": [
      "Average earnings per mile for UberPool rides (>2 riders) from 2024-07-01 to 2024-09-30: $2.39/mile (n=10 trips)\n",
      "\n",
      "Updated dataset with earnings per mile:\n",
      "    trip_id  driver_id ride_type  trip_date  rider_count  total_distance  \\\n",
      "0       101          1  UberPool 2024-07-05            3            10.5   \n",
      "1       102          1  UberPool 2024-07-15            2             8.0   \n",
      "2       103          2  UberPool 2024-08-10            4            15.0   \n",
      "3       104          3     UberX 2024-07-20            1             5.0   \n",
      "4       105          2  UberPool 2024-09-01            3            12.0   \n",
      "5       106          4  UberPool 2024-09-15            5            20.0   \n",
      "6       107          4  UberPool 2024-10-01            3             9.0   \n",
      "7       108          5  UberPool 2024-08-25            4            11.0   \n",
      "8       109          1  UberPool 2024-09-30            3             6.0   \n",
      "9       110          2  UberPool 2024-07-07            2             7.0   \n",
      "10      111          3  UberPool 2024-08-05            4            13.0   \n",
      "11      112          5     UberX 2024-09-10            1             4.0   \n",
      "12      113          6  UberPool 2024-07-30            3            22.0   \n",
      "13      114          6  UberPool 2024-08-22            4            18.0   \n",
      "14      115          7  UberPool 2024-09-21            5            25.0   \n",
      "\n",
      "    total_earnings  earnings_per_mile  \n",
      "0             22.5           2.142857  \n",
      "1             18.0           2.250000  \n",
      "2             35.0           2.333333  \n",
      "3             12.0           2.400000  \n",
      "4             30.0           2.500000  \n",
      "5             50.0           2.500000  \n",
      "6             25.0           2.777778  \n",
      "7             28.0           2.545455  \n",
      "8             16.0           2.666667  \n",
      "9             15.0           2.142857  \n",
      "10            32.0           2.461538  \n",
      "11            10.0           2.500000  \n",
      "12            45.0           2.045455  \n",
      "13            42.0           2.333333  \n",
      "14            60.0           2.400000  \n",
      "\n",
      "Subset of trips for further analysis:\n",
      "    trip_id  earnings_per_mile\n",
      "0       101           2.142857\n",
      "2       103           2.333333\n",
      "4       105           2.500000\n",
      "5       106           2.500000\n",
      "7       108           2.545455\n",
      "8       109           2.666667\n",
      "10      111           2.461538\n",
      "12      113           2.045455\n",
      "13      114           2.333333\n",
      "14      115           2.400000\n"
     ]
    }
   ],
   "source": [
    "# Derive earnings_per_mile and compute average for UberPool rides with >2 riders (2024-07-01 to 2024-09-30)\n",
    "\n",
    "# New column: earnings per mile (avoid divide-by-zero)\n",
    "fct_trips['earnings_per_mile'] = (\n",
    "    (fct_trips['total_earnings'] / fct_trips['total_distance'])\n",
    "    .where(fct_trips['total_distance'] > 0)\n",
    ")\n",
    "\n",
    "mask = (\n",
    "    fct_trips['ride_type'].str.strip().str.lower().eq('uberpool') &\n",
    "    fct_trips['trip_date'].between('2024-07-01', '2024-09-30') &\n",
    "    (fct_trips['rider_count'] > 2) &\n",
    "    fct_trips['earnings_per_mile'].notna()\n",
    ")\n",
    "\n",
    "subset = fct_trips.loc[mask, ['trip_id', 'earnings_per_mile']]\n",
    "\n",
    "if subset.empty:\n",
    "    print(\"No matching trips found for the specified criteria.\")\n",
    "else:\n",
    "    avg_epm = subset['earnings_per_mile'].mean()\n",
    "    trip_count = len(subset)\n",
    "    print(f\"Average earnings per mile for UberPool rides (>2 riders) from 2024-07-01 to 2024-09-30: ${avg_epm:.2f}/mile (n={trip_count} trips)\")\n",
    "\n",
    "# Display the updated dataset\n",
    "print(\"\\nUpdated dataset with earnings per mile:\")\n",
    "print(fct_trips)\n",
    "\n",
    "# Display the subset for further analysis\n",
    "print(\"\\nSubset of trips for further analysis:\")\n",
    "print(subset)\n"
   ]
  },
  {
   "cell_type": "markdown",
   "id": "44fe05e4",
   "metadata": {},
   "source": [
    "### Question 3 of 3\n",
    "\n",
    "Identify the combination of rider count and total distance that results in the highest average driver earnings per UberPool ride between July 1st and September 30th, 2024. This analysis directly recommends optimal trip combination strategies to maximize driver earnings."
   ]
  },
  {
   "cell_type": "code",
   "execution_count": 33,
   "id": "29b0769f",
   "metadata": {},
   "outputs": [
    {
     "name": "stdout",
     "output_type": "stream",
     "text": [
      "Top combinations by average earnings per ride (descending):\n",
      " rider_count distance_bin avg_earnings  trip_count\n",
      "           5       20+ mi       $55.00           2\n",
      "           3       20+ mi       $45.00           1\n",
      "           4     10-20 mi       $34.25           4\n",
      "           3     10-20 mi       $26.25           2\n",
      "           2      5-10 mi       $16.50           2\n",
      "           3      5-10 mi       $16.00           1\n",
      "\n",
      "Best combination: rider_count=5, distance=20+ mi -> avg_earnings=55.00 (n=2) [note: fewer than MIN_N trips in some groups]\n"
     ]
    }
   ],
   "source": [
    "# Identify best (rider_count, total_distance bin) combo by average earnings (2024-07-01 to 2024-09-30)\n",
    "\n",
    "# Filter: UberPool in range with valid earnings and distance\n",
    "mask = (\n",
    "    fct_trips['ride_type'].str.strip().str.lower().eq('uberpool') &\n",
    "    fct_trips['trip_date'].between('2024-07-01', '2024-09-30') &\n",
    "    fct_trips['total_earnings'].notna() &\n",
    "    fct_trips['total_distance'].notna() &\n",
    "    (fct_trips['total_distance'] > 0)\n",
    ")\n",
    "df = fct_trips.loc[mask, ['trip_id', 'rider_count', 'total_distance', 'total_earnings']]\n",
    "\n",
    "if df.empty:\n",
    "    print(\"No matching trips found for the specified criteria.\")\n",
    "else:\n",
    "    # Bin distances into actionable ranges\n",
    "    bins = [0, 2, 5, 10, 20, float('inf')]\n",
    "    labels = ['0-2 mi', '2-5 mi', '5-10 mi', '10-20 mi', '20+ mi']\n",
    "    df['distance_bin'] = pd.cut(df['total_distance'], bins=bins, labels=labels, right=False, include_lowest=True)\n",
    "\n",
    "    # Aggregate by rider_count and distance_bin\n",
    "    agg = (\n",
    "        df.groupby(['rider_count', 'distance_bin'], dropna=False, observed=True)\n",
    "          .agg(avg_earnings=('total_earnings', 'mean'),\n",
    "               trip_count=('trip_id', 'count'))\n",
    "          .reset_index()\n",
    "          .sort_values(['avg_earnings', 'trip_count'], ascending=[False, False])\n",
    "    )\n",
    "\n",
    "    # Prefer combinations with sufficient support\n",
    "    MIN_N = 5\n",
    "    strong = agg[agg['trip_count'] >= MIN_N]\n",
    "\n",
    "    result_table = strong if not strong.empty else agg\n",
    "    top = result_table.head(10)\n",
    "\n",
    "    print(\"Top combinations by average earnings per ride (descending):\")\n",
    "    print(top.to_string(index=False, formatters={'avg_earnings': lambda x: f\"${x:,.2f}\"}))\n",
    "\n",
    "    best_row = result_table.iloc[0]\n",
    "    print(\n",
    "        f\"\\nBest combination: rider_count={int(best_row['rider_count'])}, \"\n",
    "        f\"distance={best_row['distance_bin']} -> \"\n",
    "        f\"avg_earnings={best_row['avg_earnings']:.2f} (n={int(best_row['trip_count'])})\"\n",
    "        + (\"\" if not strong.empty else \" [note: fewer than MIN_N trips in some groups]\")\n",
    "    )\n"
   ]
  }
 ],
 "metadata": {
  "kernelspec": {
   "display_name": "py-party",
   "language": "python",
   "name": "python3"
  },
  "language_info": {
   "codemirror_mode": {
    "name": "ipython",
    "version": 3
   },
   "file_extension": ".py",
   "mimetype": "text/x-python",
   "name": "python",
   "nbconvert_exporter": "python",
   "pygments_lexer": "ipython3",
   "version": "3.13.6"
  }
 },
 "nbformat": 4,
 "nbformat_minor": 5
}
