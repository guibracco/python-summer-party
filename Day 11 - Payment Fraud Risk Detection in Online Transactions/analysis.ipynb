{
 "cells": [
  {
   "cell_type": "code",
   "execution_count": 1,
   "id": "07ab4cb2",
   "metadata": {},
   "outputs": [],
   "source": [
    "import pandas as pd\n"
   ]
  },
  {
   "cell_type": "markdown",
   "id": "583b72e6",
   "metadata": {},
   "source": [
    "You are a data analyst in **Stripe**'s risk management team investigating transaction patterns to identify potential fraud. The team needs to develop a systematic approach to screen transactions for financial risks. Your goal is to create an initial risk assessment methodology using transaction characteristics."
   ]
  },
  {
   "cell_type": "code",
   "execution_count": 2,
   "id": "7128d77b",
   "metadata": {},
   "outputs": [
    {
     "name": "stdout",
     "output_type": "stream",
     "text": [
      "Dimension: Risk Flags\n",
      "  risk_level  risk_flag_id  transaction_id\n",
      "0        Low             1               2\n",
      "1     Medium             2               7\n",
      "2       High             3              11\n",
      "3       High             4              12\n",
      "4       High             5              13\n",
      "5     Medium             6              14\n",
      "6       High             7              15\n",
      "7        Low             8               1\n",
      "8     Medium             9               6\n",
      "9        Low            10               3\n",
      "\n",
      "Fact: Transactions\n",
      "          customer_email  transaction_id transaction_date  transaction_amount  \\\n",
      "0        alice@gmail.com               1       2024-10-05              120.00   \n",
      "1   bob@customdomain.com               2       2024-10-15              250.50   \n",
      "2      charlie@yahoo.com               3       2024-10-20               75.25   \n",
      "3       dana@hotmail.com               4       2024-10-25              100.00   \n",
      "4            eve@biz.org               5       2024-10-30              300.00   \n",
      "5        frank@gmail.com               6       2024-11-03              150.75   \n",
      "6      grace@outlook.com               7       2024-11-10                 NaN   \n",
      "7         ivan@yahoo.com               8       2024-11-15              200.00   \n",
      "8       judy@hotmail.com               9       2024-11-21              250.00   \n",
      "9         ken@domain.net              10       2024-11-29              300.00   \n",
      "10    laura@riskmail.com              11       2024-12-02              100.00   \n",
      "11    mike@securepay.com              12       2024-12-03              180.00   \n",
      "12     nina@trusthub.com              13       2024-12-09              220.00   \n",
      "13     oscar@fintech.com              14       2024-12-16              140.00   \n",
      "14    paula@alertsys.com              15       2024-12-23              260.00   \n",
      "\n",
      "    fraud_detection_score  \n",
      "0                      10  \n",
      "1                      20  \n",
      "2                      15  \n",
      "3                      30  \n",
      "4                      40  \n",
      "5                      25  \n",
      "6                      50  \n",
      "7                      35  \n",
      "8                      45  \n",
      "9                      55  \n",
      "10                     80  \n",
      "11                     85  \n",
      "12                     90  \n",
      "13                     70  \n",
      "14                     95  \n"
     ]
    }
   ],
   "source": [
    "# Load the datasets\n",
    "dim_risk_flags = pd.read_csv('dim_risk_flags.csv')\n",
    "fct_transactions = pd.read_csv('fct_transactions.csv')\n",
    "\n",
    "# Display the datasets\n",
    "print(\"Dimension: Risk Flags\")\n",
    "print(dim_risk_flags)\n",
    "print(\"\\nFact: Transactions\")\n",
    "print(fct_transactions)\n"
   ]
  },
  {
   "cell_type": "markdown",
   "id": "bf430c4a",
   "metadata": {},
   "source": [
    "### Question 1 of 3\n",
    "\n",
    "How many transactions in October 2024 have a customer email ending with a domain other than 'gmail.com', 'yahoo.com', or 'hotmail.com'? This metric will help us identify transactions associated with less common email providers that may indicate emerging risk patterns."
   ]
  },
  {
   "cell_type": "code",
   "execution_count": 3,
   "id": "5a134575",
   "metadata": {},
   "outputs": [
    {
     "name": "stdout",
     "output_type": "stream",
     "text": [
      "Transactions in Oct 2024 with non-common email domains: 2\n"
     ]
    }
   ],
   "source": [
    "# Q1: Count transactions in Oct 2024 with non-common email domains — other than \".gmail.com\"., \".yahoo.com\"., or \".hotmail.com\"\n",
    "\n",
    "# Ensure transaction_date is in datetime format\n",
    "fct_transactions['transaction_date'] = pd.to_datetime(fct_transactions['transaction_date'], errors='coerce')\n",
    "\n",
    "# Extract domains from customer_email\n",
    "allowed_domains = {'gmail.com', 'yahoo.com', 'hotmail.com'}\n",
    "domains = (\n",
    "    fct_transactions['customer_email']\n",
    "    .astype(str)\n",
    "    .str.extract(r'@([^@]+)$', expand=False)\n",
    "    .str.lower()\n",
    ")\n",
    "\n",
    "# Filter for October 2024 transactions\n",
    "mask_oct_2024 = (\n",
    "    (fct_transactions['transaction_date'].dt.year == 2024) &\n",
    "    (fct_transactions['transaction_date'].dt.month == 10)\n",
    ")\n",
    "\n",
    "# Create a mask for other email domains\n",
    "mask_other_domains = ~domains.isin(allowed_domains)\n",
    "\n",
    "# Combine masks to count transactions\n",
    "count_other = (mask_oct_2024 & mask_other_domains).sum()\n",
    "\n",
    "# Display the result\n",
    "print(\"Transactions in Oct 2024 with non-common email domains:\", int(count_other))\n"
   ]
  },
  {
   "cell_type": "markdown",
   "id": "dfd06d76",
   "metadata": {},
   "source": [
    "### Question 2 of 3\n",
    "\n",
    "For transactions occurring in November 2024, what is the average transaction amount, using 0 as a default for any missing values? This calculation will help us detect abnormal transaction amounts that could be related to fraudulent activity."
   ]
  },
  {
   "cell_type": "code",
   "execution_count": 4,
   "id": "13e7d15f",
   "metadata": {},
   "outputs": [
    {
     "name": "stdout",
     "output_type": "stream",
     "text": [
      "Average transaction amount in Nov 2024 (missing as 0): 180.15\n"
     ]
    }
   ],
   "source": [
    "# Q2: Average transaction amount in Nov 2024, treating missing amounts as 0\n",
    "\n",
    "# Ensure transaction_date is in datetime format\n",
    "fct_transactions['transaction_date'] = pd.to_datetime(fct_transactions['transaction_date'], errors='coerce')\n",
    "\n",
    "# Ensure transaction_amount is numeric\n",
    "amounts = pd.to_numeric(fct_transactions['transaction_amount'], errors='coerce')\n",
    "\n",
    "# Create a mask for November 2024 transactions\n",
    "mask_nov_2024 = (\n",
    "    (fct_transactions['transaction_date'].dt.year == 2024) &\n",
    "    (fct_transactions['transaction_date'].dt.month == 11)\n",
    ")\n",
    "\n",
    "# Create a series for November 2024 transaction amounts\n",
    "series_nov = amounts.loc[mask_nov_2024].fillna(0)\n",
    "\n",
    "# Calculate the average transaction amount\n",
    "avg_amount_nov = series_nov.mean() if len(series_nov) else 0.0\n",
    "\n",
    "# Display the result\n",
    "print(f\"Average transaction amount in Nov 2024 (missing as 0): {avg_amount_nov:.2f}\")\n"
   ]
  },
  {
   "cell_type": "markdown",
   "id": "0abfdd5c",
   "metadata": {},
   "source": [
    "### Question 3 of 3\n",
    "\n",
    "Among transactions flagged as 'High' risk in December 2024, which day of the week recorded the highest number of such transactions? This analysis is intended to pinpoint specific days with concentrated high-risk activity and support the development of our preliminary fraud detection score."
   ]
  },
  {
   "cell_type": "code",
   "execution_count": 5,
   "id": "b3c1fc3c",
   "metadata": {},
   "outputs": [
    {
     "name": "stdout",
     "output_type": "stream",
     "text": [
      "Day with most 'High' risk transactions in Dec 2024: Monday (3)\n",
      "Counts by day: {'Monday': 3, 'Tuesday': 1}\n"
     ]
    }
   ],
   "source": [
    "# Q3: Day of week with most 'High' risk transactions in Dec 2024\n",
    "\n",
    "# Ensure transaction_date is in datetime format\n",
    "fct_transactions['transaction_date'] = pd.to_datetime(fct_transactions['transaction_date'], errors='coerce')\n",
    "\n",
    "# Join the transactions with risk flags\n",
    "df_join = fct_transactions.merge(\n",
    "    dim_risk_flags[['transaction_id', 'risk_level']],\n",
    "    on='transaction_id',\n",
    "    how='inner'\n",
    ")\n",
    "\n",
    "# Deduplicate by transaction to avoid counting multiple flags per transaction\n",
    "df_high = df_join[df_join['risk_level'].str.lower() == 'high'].drop_duplicates(subset=['transaction_id'])\n",
    "\n",
    "# Create a mask for December 2024 transactions\n",
    "mask_dec_2024 = (\n",
    "    (df_high['transaction_date'].dt.year == 2024) &\n",
    "    (df_high['transaction_date'].dt.month == 12)\n",
    ")\n",
    "\n",
    "# Count occurrences by day of the week\n",
    "dow_counts = (\n",
    "    df_high.loc[mask_dec_2024, 'transaction_date']\n",
    "    .dt.day_name()\n",
    "    .value_counts()\n",
    ")\n",
    "\n",
    "# Identify the day with the most 'High' risk transactions\n",
    "if not dow_counts.empty:\n",
    "    top_day = dow_counts.idxmax()\n",
    "    top_count = int(dow_counts.max())\n",
    "    print(f\"Day with most 'High' risk transactions in Dec 2024: {top_day} ({top_count})\")\n",
    "else:\n",
    "    print(\"No 'High' risk transactions found in Dec 2024.\")\n",
    "\n",
    "# Optional: distribution for reference\n",
    "print(\"Counts by day:\", dow_counts.to_dict())\n"
   ]
  }
 ],
 "metadata": {
  "kernelspec": {
   "display_name": "py-party",
   "language": "python",
   "name": "python3"
  },
  "language_info": {
   "codemirror_mode": {
    "name": "ipython",
    "version": 3
   },
   "file_extension": ".py",
   "mimetype": "text/x-python",
   "name": "python",
   "nbconvert_exporter": "python",
   "pygments_lexer": "ipython3",
   "version": "3.13.6"
  }
 },
 "nbformat": 4,
 "nbformat_minor": 5
}
