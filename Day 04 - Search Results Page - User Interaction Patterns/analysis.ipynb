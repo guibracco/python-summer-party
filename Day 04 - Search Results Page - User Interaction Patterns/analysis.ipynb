{
 "cells": [
  {
   "cell_type": "code",
   "execution_count": 6,
   "id": "eed8f375",
   "metadata": {},
   "outputs": [],
   "source": [
    "import pandas as pd\n"
   ]
  },
  {
   "cell_type": "markdown",
   "id": "85803512",
   "metadata": {},
   "source": [
    "You are a Product Analyst on the **Google** Search team investigating user engagement with search result pages. The team wants to understand how different numbers of search results impact user interaction time. Your analysis will help optimize the current search results presentation strategy."
   ]
  },
  {
   "cell_type": "code",
   "execution_count": 7,
   "id": "f81b5cad",
   "metadata": {},
   "outputs": [
    {
     "name": "stdout",
     "output_type": "stream",
     "text": [
      "DataFrame loaded from user_engagement_data.csv:\n",
      "    user_id interaction_date  interaction_time  search_results_displayed\n",
      "0    user_1       2024-07-05              35.5                        10\n",
      "1    user_2       2024-07-10              22.3                         5\n",
      "2    user_1       2024-07-05              35.5                        10\n",
      "3    user_3       2024-08-01              48.0                        15\n",
      "4    user_4       2024-08-15               NaN                        20\n",
      "5    user_5       2024-09-05              60.2                        10\n",
      "6    user_6       2024-10-10              12.0                         5\n",
      "7    user_7       2024-11-20              80.0                        15\n",
      "8    user_8       2024-12-31              55.0                        20\n",
      "9    user_9       2025-01-15              75.5                        10\n",
      "10  user_10       2025-02-20              30.0                         5\n",
      "11   user_2       2024-07-10              22.3                         5\n",
      "12  user_11       2025-03-01              92.5                        10\n",
      "13  user_12       2025-03-05              15.0                        15\n",
      "14  user_13       2025-03-10              45.3                        20\n",
      "15  user_14       2025-03-15               5.0                         5\n",
      "16  user_15       2025-03-20              68.0                        10\n",
      "17  user_16       2025-03-25             110.0                        15\n",
      "18  user_17       2025-04-01              29.9                        20\n",
      "19  user_18       2025-04-05             150.0                        10\n",
      "20  user_19       2025-04-10              33.3                         5\n",
      "21  user_20       2025-04-15              25.0                        15\n",
      "22  user_21       2025-04-20              40.0                        20\n",
      "23  user_22       2025-04-25              85.5                        10\n",
      "24  user_23       2025-04-30               NaN                         5\n",
      "25  user_24       2025-05-05              55.5                        15\n",
      "26  user_25       2025-05-10              65.0                        20\n",
      "27  user_26       2025-05-15              70.0                        10\n",
      "28  user_27       2025-05-20              95.0                         5\n",
      "29  user_28       2025-05-25              50.0                        15\n",
      "30  user_29       2025-06-01              88.0                        20\n",
      "31  user_30       2025-06-05              42.0                        10\n",
      "32  user_31       2025-06-10              37.0                         5\n",
      "33  user_32       2025-06-15              82.0                        15\n",
      "34  user_33       2025-06-20              20.0                        20\n",
      "35  user_34       2025-06-25              90.0                        10\n",
      "36  user_35       2025-06-29              77.0                         5\n",
      "37  user_36       2025-06-30              66.6                        15\n",
      "38  user_37       2024-07-15             100.0                        20\n",
      "39  user_38       2024-07-20             110.5                        10\n",
      "40  user_39       2024-08-05              35.0                         5\n",
      "41  user_40       2024-08-10              59.9                        15\n",
      "42  user_41       2024-08-15              47.3                        20\n",
      "43  user_42       2024-08-20               NaN                        10\n",
      "44  user_43       2024-09-01              68.5                         5\n",
      "45  user_44       2024-09-05              72.7                        15\n",
      "46  user_45       2024-09-10              55.5                        20\n",
      "47  user_46       2024-09-15              62.0                        10\n",
      "48  user_47       2024-09-20              40.0                         5\n",
      "49  user_48       2024-09-25              85.0                        15\n",
      "50  user_49       2024-10-01              95.0                        20\n",
      "51  user_50       2024-10-05              33.3                        10\n",
      "52  user_51       2024-10-10              44.4                         5\n",
      "53  user_52       2024-10-15              88.8                        15\n",
      "54  user_53       2024-10-20              76.5                        20\n",
      "55  user_54       2024-10-25              90.0                        10\n",
      "56  user_55       2024-10-30               NaN                         5\n",
      "57  user_56       2024-11-01             101.0                        15\n",
      "58  user_57       2024-11-05              59.0                        20\n",
      "59  user_58       2024-11-10              66.0                        10\n"
     ]
    }
   ],
   "source": [
    "# Load the CSV file into a DataFrame\n",
    "user_engagement_data = pd.read_csv('user_engagement_data.csv')\n",
    "\n",
    "# Display the DataFrame\n",
    "print(\"DataFrame loaded from user_engagement_data.csv:\")\n",
    "print(user_engagement_data)\n"
   ]
  },
  {
   "cell_type": "markdown",
   "id": "0f082c72",
   "metadata": {},
   "source": [
    "### Question 1 of 3\n",
    "\n",
    "Identify and remove any duplicate entries in the dataset to ensure data quality. How many duplicates were found and removed?"
   ]
  },
  {
   "cell_type": "code",
   "execution_count": 8,
   "id": "40ecce57",
   "metadata": {},
   "outputs": [
    {
     "name": "stdout",
     "output_type": "stream",
     "text": [
      "Number of duplicates found and removed: 2\n"
     ]
    }
   ],
   "source": [
    "# Count duplicates\n",
    "num_duplicates = user_engagement_data.duplicated().sum()\n",
    "\n",
    "# Remove duplicates\n",
    "user_engagement_data_cleaned = user_engagement_data.drop_duplicates()\n",
    "\n",
    "print(f\"Number of duplicates found and removed: {num_duplicates}\")\n"
   ]
  },
  {
   "cell_type": "markdown",
   "id": "fc633781",
   "metadata": {},
   "source": [
    "### Question 2 of 3\n",
    "\n",
    "After dropping duplicates, aggregate the data to find the average user interaction time for each number of search results displayed per page. What are the average interaction times?\n",
    "\n",
    "For Question 2, remember to use the cleaned dataset from Question 1 (the one without duplicates). You’ll want to group the data by the number of search results displayed and then calculate the average interaction time for each group."
   ]
  },
  {
   "cell_type": "code",
   "execution_count": 9,
   "id": "69fd1524",
   "metadata": {},
   "outputs": [
    {
     "name": "stdout",
     "output_type": "stream",
     "text": [
      "Average interaction times per number of search results displayed:\n",
      "   search_results_displayed  interaction_time\n",
      "0                         5         41.625000\n",
      "1                        10         75.400000\n",
      "2                        15         67.107143\n",
      "3                        20         59.730769\n"
     ]
    }
   ],
   "source": [
    "# Remove duplicates\n",
    "user_engagement_data_cleaned = user_engagement_data.drop_duplicates()\n",
    "\n",
    "# Aggregate average interaction time per number of search results displayed\n",
    "avg_interaction_times = user_engagement_data_cleaned.groupby('search_results_displayed')['interaction_time'].mean().reset_index()\n",
    "\n",
    "print(\"Average interaction times per number of search results displayed:\")\n",
    "print(avg_interaction_times)\n"
   ]
  },
  {
   "cell_type": "markdown",
   "id": "3bf97c51",
   "metadata": {},
   "source": [
    "### Question 3 of 3\n",
    "\n",
    "Sort the aggregated results from Q2 to determine which number of search results per page has the highest average user interaction time. What is the optimal number of search results per page?\n",
    "\n",
    "For Question 3, you want to sort the average interaction times you calculated in Question 2 to find which number of search results corresponds to the highest average interaction time.\n",
    "\n",
    "Try using a sorting method on your aggregated results and see which value comes out on top."
   ]
  },
  {
   "cell_type": "code",
   "execution_count": 10,
   "id": "dca50d6b",
   "metadata": {},
   "outputs": [
    {
     "name": "stdout",
     "output_type": "stream",
     "text": [
      "Optimal number of search results per page: 10.0\n",
      "Highest average interaction time: 75.4\n"
     ]
    }
   ],
   "source": [
    "# Remove duplicates\n",
    "user_engagement_data_cleaned = user_engagement_data.drop_duplicates()\n",
    "\n",
    "# Aggregate average interaction time per number of search results displayed\n",
    "avg_interaction_times = user_engagement_data_cleaned.groupby('search_results_displayed')['interaction_time'].mean().reset_index()\n",
    "\n",
    "# Sort by average interaction time in descending order\n",
    "sorted_avg_times = avg_interaction_times.sort_values(by='interaction_time', ascending=False)\n",
    "\n",
    "# Get the optimal number of search results per page\n",
    "optimal_results = sorted_avg_times.iloc[0]['search_results_displayed']\n",
    "optimal_avg_time = sorted_avg_times.iloc[0]['interaction_time']\n",
    "\n",
    "print(f\"Optimal number of search results per page: {optimal_results}\")\n",
    "print(f\"Highest average interaction time: {optimal_avg_time}\")\n"
   ]
  }
 ],
 "metadata": {
  "kernelspec": {
   "display_name": "py-party",
   "language": "python",
   "name": "python3"
  },
  "language_info": {
   "codemirror_mode": {
    "name": "ipython",
    "version": 3
   },
   "file_extension": ".py",
   "mimetype": "text/x-python",
   "name": "python",
   "nbconvert_exporter": "python",
   "pygments_lexer": "ipython3",
   "version": "3.13.5"
  }
 },
 "nbformat": 4,
 "nbformat_minor": 5
}
