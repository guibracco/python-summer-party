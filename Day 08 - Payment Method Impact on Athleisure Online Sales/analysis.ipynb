{
 "cells": [
  {
   "cell_type": "code",
   "execution_count": 36,
   "id": "ee728bd5",
   "metadata": {},
   "outputs": [],
   "source": [
    "import pandas as pd\n"
   ]
  },
  {
   "cell_type": "markdown",
   "id": "94798adf",
   "metadata": {},
   "source": [
    "You are a Product Analyst for the **Lululemon** Online Store team investigating how alternative payment methods might influence sales performance. The team wants to understand the potential impact of introducing a new installment payment option. Your analysis will predict sales lift and customer conversion for the proposed payment method."
   ]
  },
  {
   "cell_type": "code",
   "execution_count": 37,
   "id": "cda9d46c",
   "metadata": {},
   "outputs": [
    {
     "name": "stdout",
     "output_type": "stream",
     "text": [
      "    customer_id  order_value payment_method  transaction_id transaction_date\n",
      "0           201        250.0    credit_card               1       2025-03-15\n",
      "1           202         95.0     debit_card               2       2025-03-20\n",
      "2           203         75.0         paypal               3       2025-03-25\n",
      "3           204        310.0    credit_card               4       2024-11-10\n",
      "4           205         65.0         paypal               5       2024-12-05\n",
      "5           206        265.0    credit_card               6       2024-07-15\n",
      "6           207        290.0    credit_card               7       2024-08-10\n",
      "7           208        275.0    credit_card               8       2024-09-05\n",
      "8           209        280.0    credit_card               9       2024-10-20\n",
      "9           210         90.0     debit_card              10       2024-10-25\n",
      "10          101        275.0    credit_card              11       2025-04-02\n",
      "11          102        285.0    credit_card              12       2025-04-05\n",
      "12          103        280.0    credit_card              13       2025-04-10\n",
      "13          104        290.0    credit_card              14       2025-04-15\n",
      "14          105        270.0    credit_card              15       2025-04-20\n",
      "15          106        295.0    credit_card              16       2025-04-25\n",
      "16          107        280.0    credit_card              17       2025-05-01\n",
      "17          108        275.0    credit_card              18       2025-05-05\n",
      "18          109        285.0    credit_card              19       2025-05-10\n",
      "19          110        290.0    credit_card              20       2025-05-15\n",
      "20          111        270.0    credit_card              21       2025-05-20\n",
      "21          112        280.0    credit_card              22       2025-05-25\n",
      "22          113        295.0    credit_card              23       2025-05-30\n",
      "23          114        285.0    credit_card              24       2025-06-01\n",
      "24          115        280.0    credit_card              25       2025-06-05\n",
      "25          116        275.0    credit_card              26       2025-06-10\n",
      "26          117        285.0    credit_card              27       2025-06-15\n",
      "27          118        290.0    credit_card              28       2025-06-20\n",
      "28          119        270.0    credit_card              29       2025-06-25\n",
      "29          120        280.0    credit_card              30       2025-06-30\n",
      "30          121        275.0    credit_card              31       2025-04-08\n",
      "31          122        285.0    credit_card              32       2025-04-18\n",
      "32          123        290.0    credit_card              33       2025-05-08\n",
      "33          124        280.0    credit_card              34       2025-05-18\n",
      "34          125        275.0    credit_card              35       2025-06-08\n",
      "35          126         92.0     debit_card              36       2025-04-07\n",
      "36          127         88.0     debit_card              37       2025-04-12\n",
      "37          128         90.0     debit_card              38       2025-04-17\n",
      "38          129         85.0     debit_card              39       2025-04-22\n",
      "39          130         95.0     debit_card              40       2025-05-12\n",
      "40          131         90.0     debit_card              41       2025-05-22\n",
      "41          132         92.0     debit_card              42       2025-06-15\n",
      "42          133         88.0     debit_card              43       2025-06-25\n",
      "43          134         70.0         paypal              44       2025-04-07\n",
      "44          135         72.0         paypal              45       2025-04-17\n",
      "45          136         68.0         paypal              46       2025-04-27\n",
      "46          137         70.0         paypal              47       2025-05-07\n",
      "47          138         69.0         paypal              48       2025-05-27\n",
      "48          139         71.0         paypal              49       2025-06-03\n",
      "49          140         70.0         paypal              50       2025-06-12\n"
     ]
    }
   ],
   "source": [
    "# Load the transaction data\n",
    "fct_transactions = pd.read_csv('fct_transactions.csv')\n",
    "\n",
    "# Display the DataFrame\n",
    "print(fct_transactions)\n"
   ]
  },
  {
   "cell_type": "markdown",
   "id": "b985c784",
   "metadata": {},
   "source": [
    "### Question 1 of 3\n",
    "\n",
    "Between April 1st and June 30th, 2025, what is the count of transactions for each payment method? This analysis will establish the baseline distribution of how customers currently pay."
   ]
  },
  {
   "cell_type": "code",
   "execution_count": 38,
   "id": "4e34f350",
   "metadata": {},
   "outputs": [
    {
     "name": "stdout",
     "output_type": "stream",
     "text": [
      "Transaction counts by payment method between April 1, 2025, and June 30, 2025:\n",
      "payment_method\n",
      "credit_card    25\n",
      "debit_card      8\n",
      "paypal          7\n",
      "Name: count, dtype: int64\n"
     ]
    }
   ],
   "source": [
    "# Count the number of transactions by payment method between April 1, 2025, and June 30, 2025\n",
    "mask = (fct_transactions['transaction_date'] >= '2025-04-01') & (fct_transactions['transaction_date'] <= '2025-06-30')\n",
    "transaction_counts = fct_transactions.loc[mask, 'payment_method'].value_counts()\n",
    "\n",
    "# Display the transaction counts\n",
    "print(\"Transaction counts by payment method between April 1, 2025, and June 30, 2025:\")\n",
    "print(transaction_counts)\n"
   ]
  },
  {
   "cell_type": "markdown",
   "id": "855ae371",
   "metadata": {},
   "source": [
    "### Question 2 of 3\n",
    "\n",
    "Between April 1st and June 30th, 2025, what is the average order value for each payment method? This metric will help us assess which payment methods are tied to higher spending levels."
   ]
  },
  {
   "cell_type": "code",
   "execution_count": 39,
   "id": "eb4c6910",
   "metadata": {},
   "outputs": [
    {
     "name": "stdout",
     "output_type": "stream",
     "text": [
      "Average order value by payment method between April 1, 2025, and June 30, 2025:\n",
      "payment_method\n",
      "credit_card    281.60\n",
      "debit_card      90.00\n",
      "paypal          70.00\n",
      "Name: order_value, dtype: object\n"
     ]
    }
   ],
   "source": [
    "# Average order value for each payment method between April 1, 2025, and June 30, 2025\n",
    "average_order_value = fct_transactions.loc[mask].groupby('payment_method')['order_value'].mean()\n",
    "\n",
    "# Display the average order value\n",
    "print(\"Average order value by payment method between April 1, 2025, and June 30, 2025:\")\n",
    "print(average_order_value.apply(lambda x: f\"{x:.2f}\"))\n"
   ]
  },
  {
   "cell_type": "markdown",
   "id": "2f5dd47f",
   "metadata": {},
   "source": [
    "### Question 3 of 3\n",
    "\n",
    "Between April 1st and June 30th, 2025, what would be the predicted sales lift if a \"pay over time\" option were introduced? Assume that 20% of customers using credit cards switch to this option and that their average order value increases by 15%. This calculation will directly inform the expected impact on overall sales performance."
   ]
  },
  {
   "cell_type": "code",
   "execution_count": 40,
   "id": "715d1cb5",
   "metadata": {},
   "outputs": [
    {
     "name": "stdout",
     "output_type": "stream",
     "text": [
      "Predicted sales lift: 211.20\n"
     ]
    }
   ],
   "source": [
    "# Predicted sales lift between April 1, 2025, and June 30, 2025, if a \"pay over time\" option were introduced.\n",
    "# Assumptions: 20% of credit card customers switch and their AOV increases by 15%.\n",
    "# Lift = baseline CC revenue × 20% × 15%\n",
    "\n",
    "cc_mask = mask & fct_transactions['payment_method'].astype(str).str.lower().isin(['credit card', 'credit_card'])\n",
    "baseline_cc_revenue = fct_transactions.loc[cc_mask, 'order_value'].sum()\n",
    "predicted_sales_lift = baseline_cc_revenue * 0.20 * 0.15\n",
    "\n",
    "# Display the predicted sales lift\n",
    "print(\"Predicted sales lift:\", f\"{predicted_sales_lift:.2f}\")\n"
   ]
  }
 ],
 "metadata": {
  "kernelspec": {
   "display_name": "py-party",
   "language": "python",
   "name": "python3"
  },
  "language_info": {
   "codemirror_mode": {
    "name": "ipython",
    "version": 3
   },
   "file_extension": ".py",
   "mimetype": "text/x-python",
   "name": "python",
   "nbconvert_exporter": "python",
   "pygments_lexer": "ipython3",
   "version": "3.13.6"
  }
 },
 "nbformat": 4,
 "nbformat_minor": 5
}
