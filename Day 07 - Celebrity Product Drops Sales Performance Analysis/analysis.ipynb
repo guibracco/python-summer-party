{
 "cells": [
  {
   "cell_type": "code",
   "execution_count": 1,
   "id": "7e25b44b",
   "metadata": {},
   "outputs": [],
   "source": [
    "import pandas as pd\n"
   ]
  },
  {
   "cell_type": "markdown",
   "id": "a4437fef",
   "metadata": {},
   "source": [
    "You are a Product Analyst working on **Nike**'s marketing performance team. Your team wants to evaluate the effectiveness of celebrity product collaborations by analyzing sales data. You will investigate the performance of celebrity product drops to inform future marketing strategies."
   ]
  },
  {
   "cell_type": "code",
   "execution_count": 2,
   "id": "699627a0",
   "metadata": {},
   "outputs": [
    {
     "name": "stdout",
     "output_type": "stream",
     "text": [
      "Sales Data:\n",
      "    sale_id   sale_date  product_id  sale_amount  celebrity_id\n",
      "0         1  2025-01-10         901          NaN           101\n",
      "1         2  2025-01-15         901      1500.00           101\n",
      "2         3  2025-02-03         902      2000.50           102\n",
      "3         4  2025-03-12         903      2500.75           103\n",
      "4         5  2025-03-20         904          NaN           104\n",
      "5         6  2025-02-28         901      1000.00           101\n",
      "6         7  2025-03-25         902       300.00           102\n",
      "7         8  2025-03-30         905      1800.00           105\n",
      "8         9  2025-01-20         903      1200.00           103\n",
      "9        10  2025-02-05         906       500.00           106\n",
      "10       11  2025-03-01         907      2200.00           107\n",
      "11       12  2025-02-15         908      1300.00           101\n",
      "12       13  2025-03-15         909          NaN           102\n",
      "13       14  2025-01-25         910       900.00           108\n",
      "14       15  2025-02-20         905       700.00           105\n",
      "15       16  2025-03-28         902      1500.00           102\n",
      "16       17  2024-11-15         901       800.00           101\n",
      "17       18  2024-07-30         902      1000.00           102\n",
      "18       19  2025-04-10         905      2000.00           105\n",
      "19       20  2024-09-05         903      1100.00           103\n"
     ]
    }
   ],
   "source": [
    "# Load the CSV file into a DataFrame\n",
    "fct_sales = pd.read_csv('fct_sales.csv')\n",
    "\n",
    "# Display de DataFrame\n",
    "print(\"Sales Data:\")\n",
    "print(fct_sales)\n"
   ]
  },
  {
   "cell_type": "markdown",
   "id": "87307d07",
   "metadata": {},
   "source": [
    "### Question 1 of 3\n",
    "\n",
    "For Q1 2025 (January 1st through March 31st, 2025), can you identify all records of celebrity collaborations from the sales data where the `sale_amount` is missing? This will help us flag incomplete records that could impact the analysis of Nike's product performance."
   ]
  },
  {
   "cell_type": "code",
   "execution_count": 3,
   "id": "85c0eb87",
   "metadata": {},
   "outputs": [
    {
     "name": "stdout",
     "output_type": "stream",
     "text": [
      "Q1 2025 Celebrity Collaborations with Missing Sale Amount:\n",
      "    sale_id   sale_date  product_id  sale_amount  celebrity_id\n",
      "0         1  2025-01-10         901          NaN           101\n",
      "4         5  2025-03-20         904          NaN           104\n",
      "12       13  2025-03-15         909          NaN           102\n"
     ]
    }
   ],
   "source": [
    "# Filter for Q1 2025 and missing sale_amount\n",
    "q1_2025_missing_sales = fct_sales[\n",
    "    (fct_sales['sale_date'] >= '2025-01-01') &\n",
    "    (fct_sales['sale_date'] <= '2025-03-31') &\n",
    "    (fct_sales['celebrity_id'].notnull()) &\n",
    "    (fct_sales['sale_amount'].isnull())\n",
    "]\n",
    "\n",
    "print(\"Q1 2025 Celebrity Collaborations with Missing Sale Amount:\")\n",
    "print(q1_2025_missing_sales)\n"
   ]
  },
  {
   "cell_type": "markdown",
   "id": "2103cb2a",
   "metadata": {},
   "source": [
    "### Question 2 of 3\n",
    "\n",
    "For Q1 2025 (January 1st through March 31st, 2025), can you list the unique combinations of `celebrity_id` and `product_id` from the sales table? This will ensure that each collaboration is accurately accounted for in the analysis of Nike's marketing performance."
   ]
  },
  {
   "cell_type": "code",
   "execution_count": 4,
   "id": "0da36a79",
   "metadata": {},
   "outputs": [
    {
     "name": "stdout",
     "output_type": "stream",
     "text": [
      "Unique celebrity_id and product_id combinations for Q1 2025:\n",
      "    celebrity_id  product_id\n",
      "0            101         901\n",
      "2            102         902\n",
      "3            103         903\n",
      "4            104         904\n",
      "7            105         905\n",
      "9            106         906\n",
      "10           107         907\n",
      "11           101         908\n",
      "12           102         909\n",
      "13           108         910\n"
     ]
    }
   ],
   "source": [
    "# List unique combinations of celebrity_id and product_id for Q1 2025\n",
    "q1_2025_collaborations = fct_sales[\n",
    "    (fct_sales['sale_date'] >= '2025-01-01') &\n",
    "    (fct_sales['sale_date'] <= '2025-03-31') &\n",
    "    (fct_sales['celebrity_id'].notnull())\n",
    "][['celebrity_id', 'product_id']].drop_duplicates()\n",
    "\n",
    "print(\"Unique celebrity_id and product_id combinations for Q1 2025:\")\n",
    "print(q1_2025_collaborations)\n"
   ]
  },
  {
   "cell_type": "markdown",
   "id": "33098c5c",
   "metadata": {},
   "source": [
    "### Question 3 of 3\n",
    "\n",
    "For Q1 2025 (January 1st through March 31st, 2025), can you rank the unique celebrity collaborations based on their total sales amounts and list the top 3 collaborations in descending order? This will help recommend the most successful partnerships for Nike's future product drop strategies."
   ]
  },
  {
   "cell_type": "code",
   "execution_count": 5,
   "id": "dbd40c80",
   "metadata": {},
   "outputs": [
    {
     "name": "stdout",
     "output_type": "stream",
     "text": [
      "Top 3 celebrity collaborations by total sales amount for Q1 2025 (with possible ties):\n",
      "   celebrity_id  product_id  total_sales  rank\n",
      "2           102         902      3800.50   1.0\n",
      "3           103         903      3700.75   2.0\n",
      "0           101         901      2500.00   3.0\n",
      "4           105         905      2500.00   3.0\n"
     ]
    }
   ],
   "source": [
    "# Filter for relevant sales data for Q1 2025\n",
    "q1_2025_sales = fct_sales[\n",
    "    (fct_sales['sale_date'] >= '2025-01-01') &\n",
    "    (fct_sales['sale_date'] <= '2025-03-31') &\n",
    "    (fct_sales['celebrity_id'].notnull()) &\n",
    "    (fct_sales['sale_amount'].notnull())\n",
    "]\n",
    "\n",
    "# Group by celebrity_id and product_id, summing the sale_amount\n",
    "collab_sales = (\n",
    "    q1_2025_sales\n",
    "    .groupby(['celebrity_id', 'product_id'], as_index=False)['sale_amount']\n",
    "    .sum()\n",
    "    .rename(columns={'sale_amount': 'total_sales'})\n",
    ")\n",
    "\n",
    "# Rank by total_sales (descending), dense method for ties\n",
    "collab_sales['rank'] = collab_sales['total_sales'].rank(method='dense', ascending=False)\n",
    "\n",
    "# Filter for top 3 ranks (with possible ties)\n",
    "top3_with_ties = collab_sales[collab_sales['rank'] <= 3].sort_values(['rank', 'total_sales'], ascending=[True, False])\n",
    "\n",
    "print(\"Top 3 celebrity collaborations by total sales amount for Q1 2025 (with possible ties):\")\n",
    "print(top3_with_ties)\n"
   ]
  }
 ],
 "metadata": {
  "kernelspec": {
   "display_name": "py-party",
   "language": "python",
   "name": "python3"
  },
  "language_info": {
   "codemirror_mode": {
    "name": "ipython",
    "version": 3
   },
   "file_extension": ".py",
   "mimetype": "text/x-python",
   "name": "python",
   "nbconvert_exporter": "python",
   "pygments_lexer": "ipython3",
   "version": "3.13.6"
  }
 },
 "nbformat": 4,
 "nbformat_minor": 5
}
