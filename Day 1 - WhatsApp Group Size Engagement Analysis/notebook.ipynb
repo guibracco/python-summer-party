{
 "cells": [
  {
   "cell_type": "code",
   "execution_count": 5,
   "id": "2f3430b5",
   "metadata": {},
   "outputs": [],
   "source": [
    "import pandas as pd\n"
   ]
  },
  {
   "cell_type": "markdown",
   "id": "d4be8069",
   "metadata": {},
   "source": [
    "You are a Product Analyst on the **WhatsApp** team investigating group messaging dynamics. Your team wants to understand how large groups are being used and their messaging patterns. You'll leverage data to uncover insights about group participation and communication behaviors."
   ]
  },
  {
   "cell_type": "code",
   "execution_count": 6,
   "id": "0de059de",
   "metadata": {},
   "outputs": [
    {
     "name": "stdout",
     "output_type": "stream",
     "text": [
      "DataFrame loaded from dim_groups.csv:\n",
      "    group_id created_date  total_messages  participant_count\n",
      "0          1   2024-10-01             100                 25\n",
      "1          2   2024-10-10             200                 55\n",
      "2          3   2024-11-05             150                 40\n",
      "3          4   2024-10-15             500                100\n",
      "4          5   2024-12-01             120                 35\n",
      "5          6   2024-10-20             300                 50\n",
      "6          7   2024-10-25             400                 60\n",
      "7          8   2024-11-10             220                 45\n",
      "8          9   2024-10-30             450                 80\n",
      "9         10   2024-12-15              80                 15\n",
      "10        11   2024-10-05             600                 90\n",
      "11        12   2024-10-12              50                 10\n"
     ]
    }
   ],
   "source": [
    "# Load the CSV file into a DataFrame\n",
    "dim_groups = pd.read_csv('dim_groups.csv')\n",
    "\n",
    "# Display the DataFrame\n",
    "print(\"DataFrame loaded from dim_groups.csv:\")\n",
    "print(dim_groups)\n"
   ]
  },
  {
   "cell_type": "markdown",
   "id": "c6664bbe",
   "metadata": {},
   "source": [
    "### Question 1 of 3\n",
    "\n",
    "What is the maximum number of participants among WhatsApp groups that were created in October 2024? This metric will help us understand the largest group size available."
   ]
  },
  {
   "cell_type": "code",
   "execution_count": 7,
   "id": "b4d3683f",
   "metadata": {},
   "outputs": [
    {
     "name": "stdout",
     "output_type": "stream",
     "text": [
      "Maximum number of participants in October 2024 groups:\n",
      "100\n"
     ]
    }
   ],
   "source": [
    "# Ensure 'created_date' is a datetime type\n",
    "dim_groups['created_date'] = pd.to_datetime(dim_groups['created_date'])\n",
    "\n",
    "# Filter for October 2024\n",
    "oct_2024 = dim_groups[\n",
    "    (dim_groups['created_date'].dt.year == 2024) &\n",
    "    (dim_groups['created_date'].dt.month == 10)\n",
    "]\n",
    "\n",
    "# Get the maximum participant_count\n",
    "max_participants = oct_2024['participant_count'].max()\n",
    "\n",
    "print(\"Maximum number of participants in October 2024 groups:\")\n",
    "print(max_participants)\n"
   ]
  },
  {
   "cell_type": "markdown",
   "id": "f51eecbe",
   "metadata": {},
   "source": [
    "### Question 2 of 3\n",
    "\n",
    "What is the average number of participants in WhatsApp groups that were created in October 2024? This number will indicate the typical group size and inform our group messaging feature considerations."
   ]
  },
  {
   "cell_type": "code",
   "execution_count": 8,
   "id": "3fadefc8",
   "metadata": {},
   "outputs": [
    {
     "name": "stdout",
     "output_type": "stream",
     "text": [
      "Average number of participants in October 2024 groups:\n",
      "58.75\n"
     ]
    }
   ],
   "source": [
    "# Filter for groups created in October 2024\n",
    "oct_2024 = dim_groups[\n",
    "    (dim_groups['created_date'].dt.year == 2024) &\n",
    "    (dim_groups['created_date'].dt.month == 10)\n",
    "]\n",
    "\n",
    "# Calculate the average number of participants\n",
    "avg_participants = oct_2024['participant_count'].mean()\n",
    "\n",
    "print(\"Average number of participants in October 2024 groups:\")\n",
    "print(avg_participants)\n"
   ]
  },
  {
   "cell_type": "markdown",
   "id": "242c1162",
   "metadata": {},
   "source": [
    "### Question 3\n",
    "\n",
    "For WhatsApp groups with more than 50 participants that were created in October 2024, what is the average number of messages sent? This insight will help assess engagement in larger groups and support recommendations for group messaging features."
   ]
  },
  {
   "cell_type": "code",
   "execution_count": 9,
   "id": "06b83c59",
   "metadata": {},
   "outputs": [
    {
     "name": "stdout",
     "output_type": "stream",
     "text": [
      "Average number of messages sent in October 2024 groups with more than 50 participants:\n",
      "430.0\n"
     ]
    }
   ],
   "source": [
    "# Filter for groups created in October 2024 with more than 50 participants\n",
    "large_oct_2024 = dim_groups[\n",
    "    (dim_groups['created_date'].dt.year == 2024) &\n",
    "    (dim_groups['created_date'].dt.month == 10) &\n",
    "    (dim_groups['participant_count'] > 50)\n",
    "]\n",
    "\n",
    "# Calculate the average number of messages sent\n",
    "avg_messages = large_oct_2024['total_messages'].mean()\n",
    "\n",
    "print(\"Average number of messages sent in October 2024 groups with more than 50 participants:\")\n",
    "print(avg_messages)"
   ]
  }
 ],
 "metadata": {
  "kernelspec": {
   "display_name": "py-party",
   "language": "python",
   "name": "python3"
  },
  "language_info": {
   "codemirror_mode": {
    "name": "ipython",
    "version": 3
   },
   "file_extension": ".py",
   "mimetype": "text/x-python",
   "name": "python",
   "nbconvert_exporter": "python",
   "pygments_lexer": "ipython3",
   "version": "3.13.5"
  }
 },
 "nbformat": 4,
 "nbformat_minor": 5
}
