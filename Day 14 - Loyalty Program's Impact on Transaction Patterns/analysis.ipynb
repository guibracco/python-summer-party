{
 "cells": [
  {
   "cell_type": "code",
   "execution_count": 5,
   "id": "31b0968a",
   "metadata": {},
   "outputs": [],
   "source": [
    "import pandas as pd\n"
   ]
  },
  {
   "cell_type": "markdown",
   "id": "a915d0fe",
   "metadata": {},
   "source": [
    "You are a Business Analyst on the **Starbucks** Rewards team investigating customer transaction behavior. Your team wants to understand how loyalty program membership influences purchasing patterns. The goal is to compare transaction metrics between loyalty members and non-members."
   ]
  },
  {
   "cell_type": "code",
   "execution_count": 6,
   "id": "6d177678",
   "metadata": {},
   "outputs": [
    {
     "name": "stdout",
     "output_type": "stream",
     "text": [
      "Customer Data:\n",
      "    customer_id  is_loyalty_member\n",
      "0             1               True\n",
      "1             2              False\n",
      "2             3               True\n",
      "3             4              False\n",
      "4             5               True\n",
      "5             6               True\n",
      "6             7              False\n",
      "7             8               True\n",
      "8             9              False\n",
      "9            10              False\n",
      "10           11               True\n",
      "11           12              False\n",
      "\n",
      "Transaction Data:\n",
      "    customer_id  transaction_id transaction_date  transaction_value\n",
      "0             1             101       2024-07-05               5.50\n",
      "1             1             102       2024-07-15               7.25\n",
      "2             2             103       2024-07-10               4.00\n",
      "3             3             104       2024-07-20               8.75\n",
      "4             4             105       2024-07-03               6.50\n",
      "5             5             106       2024-07-22               9.00\n",
      "6             6             107       2024-07-11              10.50\n",
      "7             7             108       2024-07-18               4.25\n",
      "8             8             109       2024-07-25              12.00\n",
      "9             9             110       2024-07-07               3.75\n",
      "10           10             111       2024-07-12               5.00\n",
      "11           11             112       2024-07-27              11.25\n",
      "12           12             113       2024-07-08               6.00\n",
      "13            3             114       2024-07-30               7.50\n",
      "14            5             115       2024-07-29              10.00\n",
      "15            1             116       2024-07-31               6.25\n"
     ]
    }
   ],
   "source": [
    "# Load customer data with `is_loyalty_member` as boolean\n",
    "dim_customers = pd.read_csv('dim_customers.csv')\n",
    "dim_customers['is_loyalty_member'] = dim_customers['is_loyalty_member'].astype(bool)\n",
    "\n",
    "# Load transaction data with `transaction_date` as datetime\n",
    "fct_transactions = pd.read_csv('fct_transactions.csv')\n",
    "fct_transactions['transaction_date'] = pd.to_datetime(fct_transactions['transaction_date'])\n",
    "\n",
    "# Display the datasets\n",
    "print(\"Customer Data:\")\n",
    "print(dim_customers)\n",
    "\n",
    "print(\"\\nTransaction Data:\")\n",
    "print(fct_transactions)\n"
   ]
  },
  {
   "cell_type": "markdown",
   "id": "fa2a03af",
   "metadata": {},
   "source": [
    "### Question 1 of 3\n",
    "\n",
    "For the month of July 2024, how many transactions did loyalty program members and non-members make? Compare the transaction counts between these two groups."
   ]
  },
  {
   "cell_type": "code",
   "execution_count": null,
   "id": "28639f19",
   "metadata": {},
   "outputs": [
    {
     "name": "stdout",
     "output_type": "stream",
     "text": [
      "\n",
      "Members: 10 | Non-members: 6\n",
      "Difference: +4 | Ratio (Members/Non-members): 1.67x\n"
     ]
    }
   ],
   "source": [
    "# Filter transactions for July 2024\n",
    "july = fct_transactions[\n",
    "    fct_transactions[\"transaction_date\"].between(\"2024-07-01\", \"2024-07-31\")\n",
    "].copy()\n",
    "\n",
    "# Attach loyalty flag\n",
    "july = july.merge(\n",
    "    dim_customers[[\"customer_id\", \"is_loyalty_member\"]],\n",
    "    on=\"customer_id\",\n",
    "    how=\"left\"\n",
    ")\n",
    "\n",
    "# Count transactions by membership\n",
    "counts = (\n",
    "    july\n",
    "    .groupby(july[\"is_loyalty_member\"].map({True: \"Member\", False: \"Non-member\"}))\n",
    "    .size()\n",
    "    .rename(\"transaction_count\")\n",
    "    .reindex([\"Member\", \"Non-member\"])\n",
    "    .fillna(0)\n",
    "    .astype(int)\n",
    ")\n",
    "\n",
    "# Simple comparison\n",
    "member_count = int(counts.get(\"Member\", 0))\n",
    "non_member_count = int(counts.get(\"Non-member\", 0))\n",
    "\n",
    "# Display the results\n",
    "print(f\"\\nMembers: {member_count} | Non-members: {non_member_count}\")\n",
    "if non_member_count > 0:\n",
    "    diff = member_count - non_member_count\n",
    "    ratio = member_count / non_member_count\n",
    "    print(f\"Difference: {diff:+} | Ratio (Members/Non-members): {ratio:.2f}x\")\n",
    "else:\n",
    "    print(\"Non-members have 0 transactions in July 2024; ratio not defined.\")\n"
   ]
  },
  {
   "cell_type": "markdown",
   "id": "16e93d0e",
   "metadata": {},
   "source": [
    "### Quastion 2 of 3\n",
    "\n",
    "What is the average transaction value for loyalty program members and non-members during July 2024? Use this to identify which group has a higher average transaction value."
   ]
  },
  {
   "cell_type": "code",
   "execution_count": null,
   "id": "f8eae42a",
   "metadata": {},
   "outputs": [
    {
     "name": "stdout",
     "output_type": "stream",
     "text": [
      "\n",
      "Members: $8.80 | Non-members: $4.92 | Higher: Members\n"
     ]
    }
   ],
   "source": [
    "# Average transaction value for July 2024 by membership\n",
    "\n",
    "# Reuse july from Q1 if available; otherwise build it\n",
    "try:\n",
    "    july\n",
    "except NameError:\n",
    "    july = fct_transactions[\n",
    "        fct_transactions[\"transaction_date\"].between(\"2024-07-01\", \"2024-07-31\")\n",
    "    ].copy()\n",
    "    july = july.merge(\n",
    "        dim_customers[[\"customer_id\", \"is_loyalty_member\"]],\n",
    "        on=\"customer_id\",\n",
    "        how=\"left\"\n",
    "    )\n",
    "\n",
    "# Compute averages\n",
    "avg = (\n",
    "    july.dropna(subset=[\"transaction_value\"])\n",
    "    .groupby(july[\"is_loyalty_member\"].map({True: \"Member\", False: \"Non-member\"}))[\"transaction_value\"]\n",
    "    .mean()\n",
    "    .rename(\"avg_transaction_value\")\n",
    "    .reindex([\"Member\", \"Non-member\"])\n",
    ")\n",
    "\n",
    "member_avg = avg.get(\"Member\")\n",
    "non_member_avg = avg.get(\"Non-member\")\n",
    "\n",
    "if pd.notna(member_avg) and pd.notna(non_member_avg):\n",
    "    if member_avg > non_member_avg:\n",
    "        higher = \"Members\"\n",
    "    elif member_avg < non_member_avg:\n",
    "        higher = \"Non-members\"\n",
    "    else:\n",
    "        higher = \"Tie\"\n",
    "    print(f\"\\nMembers: ${member_avg:.2f} | Non-members: ${non_member_avg:.2f} | Higher: {higher}\")\n",
    "elif pd.notna(member_avg):\n",
    "    print(f\"\\nMembers: ${member_avg:.2f} | Non-members: N/A\")\n",
    "elif pd.notna(non_member_avg):\n",
    "    print(f\"\\nMembers: N/A | Non-members: ${non_member_avg:.2f}\")\n",
    "else:\n",
    "    print(\"\\nNo valid transaction values in July 2024.\")\n"
   ]
  },
  {
   "cell_type": "markdown",
   "id": "bb811e3c",
   "metadata": {},
   "source": [
    "### Question 3 of 3\n",
    "\n",
    "Determine the percentage difference in average transaction value between loyalty program members and non-members for July 2024.\n",
    "\n",
    "Think about how you can build on your previous work calculating averages, and then compute the percentage difference between the two groups."
   ]
  },
  {
   "cell_type": "code",
   "execution_count": null,
   "id": "72a5bf35",
   "metadata": {},
   "outputs": [
    {
     "name": "stdout",
     "output_type": "stream",
     "text": [
      "Members: $8.80 | Non-members: $4.92\n",
      "Percentage difference vs Non-members: +78.98%\n"
     ]
    }
   ],
   "source": [
    "# Percentage difference in average transaction value (Members vs Non-members) for July 2024\n",
    "\n",
    "# Ensure 'avg' exists from Q2; otherwise compute it\n",
    "try:\n",
    "    avg  # noqa: F821\n",
    "except NameError:\n",
    "    july = fct_transactions[\n",
    "        fct_transactions[\"transaction_date\"].between(\"2024-07-01\", \"2024-07-31\")\n",
    "    ].copy()\n",
    "    july = july.merge(\n",
    "        dim_customers[[\"customer_id\", \"is_loyalty_member\"]],\n",
    "        on=\"customer_id\",\n",
    "        how=\"left\",\n",
    "    )\n",
    "    avg = (\n",
    "        july.dropna(subset=[\"transaction_value\"])\n",
    "        .groupby(july[\"is_loyalty_member\"].map({True: \"Member\", False: \"Non-member\"}))[\"transaction_value\"]\n",
    "        .mean()\n",
    "        .rename(\"avg_transaction_value\")\n",
    "        .reindex([\"Member\", \"Non-member\"])\n",
    "    )\n",
    "\n",
    "member_avg = avg.get(\"Member\")\n",
    "non_member_avg = avg.get(\"Non-member\")\n",
    "\n",
    "if pd.notna(member_avg) and pd.notna(non_member_avg):\n",
    "    if non_member_avg != 0:\n",
    "        pct_diff = (member_avg - non_member_avg) / non_member_avg * 100\n",
    "        print(f\"Members: ${member_avg:.2f} | Non-members: ${non_member_avg:.2f}\")\n",
    "        print(f\"Percentage difference vs Non-members: {pct_diff:+.2f}%\")\n",
    "    else:\n",
    "        print(f\"Members: ${member_avg:.2f} | Non-members: ${non_member_avg:.2f}\")\n",
    "        print(\"Cannot compute percentage difference: Non-member average is 0.\")\n",
    "elif pd.notna(member_avg):\n",
    "    print(f\"Members: ${member_avg:.2f} | Non-members: N/A\")\n",
    "elif pd.notna(non_member_avg):\n",
    "    print(f\"Members: N/A | Non-members: ${non_member_avg:.2f}\")\n",
    "else:\n",
    "    print(\"No valid transaction values in July 2024.\")\n"
   ]
  }
 ],
 "metadata": {
  "kernelspec": {
   "display_name": "py-party",
   "language": "python",
   "name": "python3"
  },
  "language_info": {
   "codemirror_mode": {
    "name": "ipython",
    "version": 3
   },
   "file_extension": ".py",
   "mimetype": "text/x-python",
   "name": "python",
   "nbconvert_exporter": "python",
   "pygments_lexer": "ipython3",
   "version": "3.13.6"
  }
 },
 "nbformat": 4,
 "nbformat_minor": 5
}
