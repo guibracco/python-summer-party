{
 "cells": [
  {
   "cell_type": "code",
   "execution_count": 11,
   "id": "50d276d8",
   "metadata": {},
   "outputs": [],
   "source": [
    "import pandas as pd\n"
   ]
  },
  {
   "cell_type": "markdown",
   "id": "14f3f453",
   "metadata": {},
   "source": [
    "You are a data analyst working with the **Disney** Parks revenue team to understand nuanced guest spending patterns across different park experiences. The team wants to develop a comprehensive view of visitor purchasing behaviors. Your goal is to uncover meaningful insights that can drive personalized marketing strategies."
   ]
  },
  {
   "cell_type": "code",
   "execution_count": 12,
   "id": "5edd3167",
   "metadata": {},
   "outputs": [
    {
     "name": "stdout",
     "output_type": "stream",
     "text": [
      "DataFrame loaded from fct_guest_spending.csv:\n",
      "    guest_id  visit_date  amount_spent park_experience_type\n",
      "0          1  2024-07-05          50.0           Attraction\n",
      "1          2  2024-07-06          30.0               Dining\n",
      "2          3  2024-07-10          20.5               Retail\n",
      "3          4  2024-07-12          40.0        Entertainment\n",
      "4          1  2024-07-15          35.0               Dining\n",
      "5          5  2024-07-20          60.0           Attraction\n",
      "6          6  2024-07-25          25.0               Retail\n",
      "7          1  2024-08-03          55.0           Attraction\n",
      "8          1  2024-08-15          45.0               Dining\n",
      "9          2  2024-08-05          22.0               Retail\n",
      "10         2  2024-08-20          38.0        Entertainment\n",
      "11         7  2024-08-10          15.0       Character Meet\n",
      "12         3  2024-08-25          28.0               Retail\n",
      "13         3  2024-08-27          32.0               Dining\n",
      "14         1  2024-09-02          65.0           Attraction\n",
      "15         8  2024-09-05          50.0               Retail\n",
      "16         9  2024-09-15          40.0               Dining\n",
      "17        10  2024-09-20          70.0        Entertainment\n",
      "18         1  2024-09-25          35.0               Dining\n",
      "19         8  2024-09-28          10.0       Character Meet\n"
     ]
    }
   ],
   "source": [
    "# Load the CSV file into a DataFrame\n",
    "fct_guest_spending = pd.read_csv('fct_guest_spending.csv')\n",
    "\n",
    "# Display the DataFrame\n",
    "print(\"DataFrame loaded from fct_guest_spending.csv:\")\n",
    "print(fct_guest_spending)\n"
   ]
  },
  {
   "cell_type": "markdown",
   "id": "04fe38b7",
   "metadata": {},
   "source": [
    "### Question 1 of 3\n",
    "\n",
    "What is the average spending per guest per visit for each park experience type during July 2024? Ensure that park experience types with no recorded transactions are shown with an average spending of 0.0. This analysis helps establish baseline spending differences essential for later segmentation."
   ]
  },
  {
   "cell_type": "code",
   "execution_count": 13,
   "id": "283c3b9e",
   "metadata": {},
   "outputs": [
    {
     "name": "stdout",
     "output_type": "stream",
     "text": [
      "Average spending per guest per visit for each park experience type during July 2024:\n",
      "  park_experience_type  avg_spending_per_guest_per_visit\n",
      "0           Attraction                             55.00\n",
      "1               Dining                             32.50\n",
      "2               Retail                             22.75\n",
      "3        Entertainment                             40.00\n",
      "4       Character Meet                              0.00\n"
     ]
    }
   ],
   "source": [
    "# Filter for July 2024\n",
    "df_july = fct_guest_spending[\n",
    "    (fct_guest_spending['visit_date'] >= '2024-07-01') &\n",
    "    (fct_guest_spending['visit_date'] <= '2024-07-31')\n",
    "]\n",
    "\n",
    "# Get all unique park experience types from the full dataset\n",
    "all_types = fct_guest_spending['park_experience_type'].unique()\n",
    "\n",
    "# Calculate average spending per guest per visit for each park experience type\n",
    "avg_spending = df_july.groupby('park_experience_type')['amount_spent'].mean().reindex(all_types, fill_value=0.0).reset_index()\n",
    "\n",
    "# Rename columns for clarity\n",
    "avg_spending.columns = ['park_experience_type', 'avg_spending_per_guest_per_visit']\n",
    "\n",
    "print(\"Average spending per guest per visit for each park experience type during July 2024:\")\n",
    "print(avg_spending)\n"
   ]
  },
  {
   "cell_type": "code",
   "execution_count": null,
   "id": "163f1b2f",
   "metadata": {},
   "outputs": [],
   "source": []
  },
  {
   "cell_type": "markdown",
   "id": "6626874e",
   "metadata": {},
   "source": [
    "### Question 2 of 3\n",
    "\n",
    "For guests who visited our parks more than once in August 2024, what is the difference in spending between their first and their last visit? This investigation, using sequential analysis, will reveal any shifts in guest spending behavior over multiple visits."
   ]
  },
  {
   "cell_type": "code",
   "execution_count": 14,
   "id": "73efd6ec",
   "metadata": {},
   "outputs": [
    {
     "name": "stdout",
     "output_type": "stream",
     "text": [
      "Difference in spending between first and last visit for guests with multiple visits in August 2024:\n",
      "   guest_id  spending_difference\n",
      "0         1                -10.0\n",
      "1         2                 16.0\n",
      "2         3                  4.0\n"
     ]
    }
   ],
   "source": [
    "# Filter for August 2024\n",
    "df_aug = fct_guest_spending[\n",
    "    (fct_guest_spending['visit_date'] >= '2024-08-01') &\n",
    "    (fct_guest_spending['visit_date'] <= '2024-08-31')\n",
    "]\n",
    "\n",
    "# Count visits per guest\n",
    "visit_counts = df_aug.groupby('guest_id')['visit_date'].nunique()\n",
    "multi_visitors = visit_counts[visit_counts > 1].index\n",
    "\n",
    "# Filter guests with more than one visit\n",
    "df_multi = df_aug[df_aug['guest_id'].isin(multi_visitors)]\n",
    "\n",
    "# Aggregate spending per guest per visit date\n",
    "guest_visits = df_multi.groupby(['guest_id', 'visit_date'])['amount_spent'].sum().reset_index()\n",
    "\n",
    "# Find first and last visit for each guest\n",
    "first_visits = guest_visits.sort_values('visit_date').groupby('guest_id').first().reset_index()\n",
    "last_visits = guest_visits.sort_values('visit_date').groupby('guest_id').last().reset_index()\n",
    "\n",
    "# Merge to compute difference\n",
    "spending_diff = pd.merge(\n",
    "    first_visits[['guest_id', 'amount_spent']],\n",
    "    last_visits[['guest_id', 'amount_spent']],\n",
    "    on='guest_id',\n",
    "    suffixes=('_first', '_last')\n",
    ")\n",
    "spending_diff['spending_difference'] = spending_diff['amount_spent_last'] - spending_diff['amount_spent_first']\n",
    "\n",
    "print(\"Difference in spending between first and last visit for guests with multiple visits in August 2024:\")\n",
    "print(spending_diff[['guest_id', 'spending_difference']])\n"
   ]
  },
  {
   "cell_type": "markdown",
   "id": "1a0bf2f5",
   "metadata": {},
   "source": [
    "### Question 3 of 3\n",
    "\n",
    "In September 2024, how can guests be categorized into distinct spending segments such as Low, Medium, and High based on their total spending? Use the following thresholds for categorization:\n",
    "\n",
    "1. Low: Includes values from $0 up to, but not including, $50.\n",
    "2. Medium: Includes values from $50 up to, but not including, $100.\n",
    "3. High: Includes values from $100 and above.\n",
    "\n",
    "Exclude guests who did not make any purchases in the period."
   ]
  },
  {
   "cell_type": "code",
   "execution_count": 15,
   "id": "317dfe05",
   "metadata": {},
   "outputs": [
    {
     "name": "stdout",
     "output_type": "stream",
     "text": [
      "Guest spending segments for September 2024:\n",
      "   guest_id  amount_spent spending_segment\n",
      "0         1         100.0             High\n",
      "1         8          60.0           Medium\n",
      "2         9          40.0              Low\n",
      "3        10          70.0           Medium\n"
     ]
    }
   ],
   "source": [
    "# Filter for September 2024\n",
    "df_sep = fct_guest_spending[\n",
    "    (fct_guest_spending['visit_date'] >= '2024-09-01') &\n",
    "    (fct_guest_spending['visit_date'] <= '2024-09-30')\n",
    "]\n",
    "\n",
    "# Calculate total spending per guest\n",
    "guest_spending = df_sep.groupby('guest_id')['amount_spent'].sum().reset_index()\n",
    "\n",
    "# Exclude guests with no purchases\n",
    "guest_spending = guest_spending[guest_spending['amount_spent'] > 0]\n",
    "\n",
    "# Categorize spending segments\n",
    "def categorize(amount):\n",
    "    if amount < 50:\n",
    "        return 'Low'\n",
    "    elif amount < 100:\n",
    "        return 'Medium'\n",
    "    else:\n",
    "        return 'High'\n",
    "\n",
    "guest_spending['spending_segment'] = guest_spending['amount_spent'].apply(categorize)\n",
    "\n",
    "print(\"Guest spending segments for September 2024:\")\n",
    "print(guest_spending[['guest_id', 'amount_spent', 'spending_segment']])\n"
   ]
  }
 ],
 "metadata": {
  "kernelspec": {
   "display_name": "py-party",
   "language": "python",
   "name": "python3"
  },
  "language_info": {
   "codemirror_mode": {
    "name": "ipython",
    "version": 3
   },
   "file_extension": ".py",
   "mimetype": "text/x-python",
   "name": "python",
   "nbconvert_exporter": "python",
   "pygments_lexer": "ipython3",
   "version": "3.13.6"
  }
 },
 "nbformat": 4,
 "nbformat_minor": 5
}
